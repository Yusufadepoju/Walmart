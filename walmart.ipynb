{
 "cells": [
  {
   "cell_type": "code",
   "execution_count": null,
   "id": "b4b48887",
   "metadata": {},
   "outputs": [],
   "source": [
    "#import neccessary modules \n",
    "import pandas as pd\n",
    "import numpy as np\n",
    "from matplotlib import pyplot as plt\n",
    "%matplotlib inline\n",
    "\n",
    "import seaborn as sns\n",
    "from sklearn.preprocessing import Normalizer\n",
    "from sklearn.linear_model import LinearRegression, Ridge, Lasso\n",
    "from sklearn.metrics import mean_squared_error, mean_absolute_error, r2_score\n",
    "from sklearn.preprocessing import OneHotEncoder\n",
    "from sklearn.pipeline import make_pipeline\n",
    "from sklearn.utils.validation import check_is_fitted\n",
    "\n"
   ]
  },
  {
   "cell_type": "code",
   "execution_count": null,
   "id": "f7e66a5c",
   "metadata": {},
   "outputs": [],
   "source": [
    "#load csv files\n",
    "train = pd.read_csv('C:/Users/Yusuf/Desktop/Portfolio Project/walmart/train.csv')\n",
    "test = pd.read_csv('C:/Users/Yusuf/Desktop/Portfolio Project/walmart/test.csv')\n",
    "features = pd.read_csv('C:/Users/Yusuf/Desktop/Portfolio Project/walmart/features.csv')\n",
    "store = pd.read_csv('C:/Users/Yusuf/Desktop/Portfolio Project/walmart/stores.csv')\n",
    "submission = pd.read_csv('C:/Users/Yusuf/Desktop/Portfolio Project/walmart/sampleSubmission.csv')"
   ]
  },
  {
   "cell_type": "code",
   "execution_count": null,
   "id": "de667784",
   "metadata": {
    "scrolled": false
   },
   "outputs": [],
   "source": [
    "#Data inspection and manipulation\n",
    "train.head()"
   ]
  },
  {
   "cell_type": "code",
   "execution_count": null,
   "id": "2cfea1da",
   "metadata": {},
   "outputs": [],
   "source": [
    "train.tail()"
   ]
  },
  {
   "cell_type": "code",
   "execution_count": null,
   "id": "94a3ade5",
   "metadata": {
    "scrolled": true
   },
   "outputs": [],
   "source": [
    "train.info()"
   ]
  },
  {
   "cell_type": "code",
   "execution_count": null,
   "id": "f5501cee",
   "metadata": {},
   "outputs": [],
   "source": [
    "train.shape"
   ]
  },
  {
   "cell_type": "code",
   "execution_count": null,
   "id": "f60f5248",
   "metadata": {},
   "outputs": [],
   "source": [
    "train.describe()"
   ]
  },
  {
   "cell_type": "code",
   "execution_count": null,
   "id": "6f601989",
   "metadata": {},
   "outputs": [],
   "source": [
    "test.head()"
   ]
  },
  {
   "cell_type": "code",
   "execution_count": null,
   "id": "bb576a79",
   "metadata": {
    "scrolled": true
   },
   "outputs": [],
   "source": [
    "features.head()"
   ]
  },
  {
   "cell_type": "code",
   "execution_count": null,
   "id": "0b74b5d7",
   "metadata": {
    "scrolled": false
   },
   "outputs": [],
   "source": [
    "features.tail()"
   ]
  },
  {
   "cell_type": "code",
   "execution_count": null,
   "id": "eb08d3a1",
   "metadata": {},
   "outputs": [],
   "source": [
    "features.shape"
   ]
  },
  {
   "cell_type": "code",
   "execution_count": null,
   "id": "b21c9ace",
   "metadata": {},
   "outputs": [],
   "source": [
    "store.head()"
   ]
  },
  {
   "cell_type": "code",
   "execution_count": null,
   "id": "d1888c82",
   "metadata": {},
   "outputs": [],
   "source": [
    "store.shape"
   ]
  },
  {
   "cell_type": "code",
   "execution_count": null,
   "id": "750a2740",
   "metadata": {},
   "outputs": [],
   "source": [
    "#Data Cleaning and Manipulation\n",
    "#check for missing values\n",
    "train.isnull().sum()"
   ]
  },
  {
   "cell_type": "code",
   "execution_count": null,
   "id": "341454d5",
   "metadata": {},
   "outputs": [],
   "source": [
    "store.isnull().sum()"
   ]
  },
  {
   "cell_type": "code",
   "execution_count": null,
   "id": "91db8589",
   "metadata": {},
   "outputs": [],
   "source": [
    "features.isnull().sum()"
   ]
  },
  {
   "cell_type": "code",
   "execution_count": null,
   "id": "9f4a30f3",
   "metadata": {},
   "outputs": [],
   "source": [
    "print(train.shape)\n",
    "features.shape"
   ]
  },
  {
   "cell_type": "code",
   "execution_count": null,
   "id": "495dddd3",
   "metadata": {},
   "outputs": [],
   "source": [
    "df = train.merge(features).merge(store)"
   ]
  },
  {
   "cell_type": "code",
   "execution_count": null,
   "id": "501d4455",
   "metadata": {},
   "outputs": [],
   "source": [
    "df.shape"
   ]
  },
  {
   "cell_type": "code",
   "execution_count": null,
   "id": "3a489e06",
   "metadata": {},
   "outputs": [],
   "source": [
    "df.columns"
   ]
  },
  {
   "cell_type": "code",
   "execution_count": null,
   "id": "954bc4af",
   "metadata": {},
   "outputs": [],
   "source": [
    "df.head()"
   ]
  },
  {
   "cell_type": "code",
   "execution_count": null,
   "id": "be680d54",
   "metadata": {},
   "outputs": [],
   "source": [
    "df.shape"
   ]
  },
  {
   "cell_type": "code",
   "execution_count": null,
   "id": "4fece204",
   "metadata": {},
   "outputs": [],
   "source": [
    "df.info()"
   ]
  },
  {
   "cell_type": "code",
   "execution_count": null,
   "id": "c1dfa2e0",
   "metadata": {},
   "outputs": [],
   "source": [
    "#converting date column to date datatype\n",
    "df['Date'] = pd.to_datetime(df['Date'])\n",
    "\n"
   ]
  },
  {
   "cell_type": "code",
   "execution_count": null,
   "id": "d23fb840",
   "metadata": {},
   "outputs": [],
   "source": [
    "df['Year'] = df['Date'].dt.year\n",
    "df['Month'] = df['Date'].dt.month\n",
    "df['Day'] = df['Date'].dt.day\n",
    "df['Week'] = df['Date'].dt.week"
   ]
  },
  {
   "cell_type": "code",
   "execution_count": null,
   "id": "4b64a8fe",
   "metadata": {
    "scrolled": true
   },
   "outputs": [],
   "source": [
    "df.head()"
   ]
  },
  {
   "cell_type": "code",
   "execution_count": null,
   "id": "a5f3fbc2",
   "metadata": {},
   "outputs": [],
   "source": []
  },
  {
   "cell_type": "code",
   "execution_count": null,
   "id": "33d8c8e1",
   "metadata": {},
   "outputs": [],
   "source": [
    "df.isnull().sum()"
   ]
  },
  {
   "cell_type": "code",
   "execution_count": null,
   "id": "a8ee76f3",
   "metadata": {},
   "outputs": [],
   "source": []
  },
  {
   "cell_type": "code",
   "execution_count": null,
   "id": "e5965e6f",
   "metadata": {},
   "outputs": [],
   "source": [
    "df"
   ]
  },
  {
   "cell_type": "markdown",
   "id": "0e271a92",
   "metadata": {},
   "source": [
    "Explanatory Data Analysis(EDA)"
   ]
  },
  {
   "cell_type": "code",
   "execution_count": null,
   "id": "e3c7eded",
   "metadata": {},
   "outputs": [],
   "source": [
    "#No of stores available\n",
    "print(\"No of stores available\", df.Store.nunique())\n",
    "print(df.Store.unique())"
   ]
  },
  {
   "cell_type": "code",
   "execution_count": null,
   "id": "46a54cb6",
   "metadata": {},
   "outputs": [],
   "source": [
    "#No of dept available\n",
    "print(\"No of Dept. available\", df.Dept.nunique())\n",
    "print(\"List of available dept.\", (df.Dept.unique()))\n"
   ]
  },
  {
   "cell_type": "code",
   "execution_count": null,
   "id": "b24d9ab6",
   "metadata": {},
   "outputs": [],
   "source": [
    "#Type of stores available\n",
    "print(\"No of type of stores available:\", df.Type.nunique())\n",
    "print(\"List of available stores\", (df.Type.unique()))"
   ]
  },
  {
   "cell_type": "code",
   "execution_count": null,
   "id": "4358544c",
   "metadata": {},
   "outputs": [],
   "source": [
    "df.info()"
   ]
  },
  {
   "cell_type": "code",
   "execution_count": null,
   "id": "0f829fc3",
   "metadata": {},
   "outputs": [],
   "source": [
    "df.Size.unique()"
   ]
  },
  {
   "cell_type": "code",
   "execution_count": null,
   "id": "e1b4da85",
   "metadata": {},
   "outputs": [],
   "source": [
    "df.head()"
   ]
  },
  {
   "cell_type": "code",
   "execution_count": null,
   "id": "fb4129b1",
   "metadata": {},
   "outputs": [],
   "source": [
    "numerical = df[['Weekly_Sales', 'Temperature', 'Fuel_Price', 'CPI', 'Unemployment', 'Size']]\n",
    "categorical = ['Store', 'Dept', 'Date', 'IsHoliday', 'Type']"
   ]
  },
  {
   "cell_type": "code",
   "execution_count": null,
   "id": "94d9ae42",
   "metadata": {
    "scrolled": true
   },
   "outputs": [],
   "source": [
    "df.tail()"
   ]
  },
  {
   "cell_type": "markdown",
   "id": "b71e62ce",
   "metadata": {},
   "source": [
    "Which stores has the highest number of frequency "
   ]
  },
  {
   "cell_type": "code",
   "execution_count": null,
   "id": "7d557ab2",
   "metadata": {},
   "outputs": [],
   "source": [
    "fig = plt.figure(figsize=(14, 6))\n",
    "df[\"Store\"].value_counts().plot(kind='bar')\n",
    "plt.xlabel('Store')\n",
    "plt.ylabel('Frequency')\n",
    "plt.title(\"No of Stores\")"
   ]
  },
  {
   "cell_type": "markdown",
   "id": "3d6e142b",
   "metadata": {},
   "source": [
    "Which type is the most commonnest store type"
   ]
  },
  {
   "cell_type": "code",
   "execution_count": null,
   "id": "1b01ce23",
   "metadata": {
    "scrolled": true
   },
   "outputs": [],
   "source": [
    "fig = plt.figure(figsize=(18, 6))\n",
    "df[\"Type\"].value_counts().plot(kind='bar')\n",
    "plt.xlabel('Type')\n",
    "plt.ylabel('No of Types')  "
   ]
  },
  {
   "cell_type": "markdown",
   "id": "7493a417",
   "metadata": {},
   "source": [
    "Insights\n",
    "\n",
    "A is the most common store type"
   ]
  },
  {
   "cell_type": "code",
   "execution_count": null,
   "id": "d9852e11",
   "metadata": {},
   "outputs": [],
   "source": [
    "fig = plt.figure(figsize=(18, 6))\n",
    "df.groupby('Store')['Weekly_Sales'].mean().plot(kind='bar')"
   ]
  },
  {
   "cell_type": "markdown",
   "id": "e5dbf57c",
   "metadata": {},
   "source": [
    "#which store and type has the highest sales\n",
    "What is the average size of each store and type"
   ]
  },
  {
   "cell_type": "code",
   "execution_count": null,
   "id": "c26a2bd8",
   "metadata": {
    "scrolled": true
   },
   "outputs": [],
   "source": [
    "fig = plt.figure(figsize=(14, 6))\n",
    "df.groupby('Store')['Size'].mean().sort_values(ascending=False).plot(kind='bar')"
   ]
  },
  {
   "cell_type": "code",
   "execution_count": null,
   "id": "9e3f94a6",
   "metadata": {
    "scrolled": true
   },
   "outputs": [],
   "source": [
    "fig = plt.figure(figsize=(18, 6))\n",
    "df.groupby('Type')['Size'].mean().plot(kind='bar')\n",
    "df.groupby('Type')['Size'].mean()"
   ]
  },
  {
   "cell_type": "markdown",
   "id": "f0f70d74",
   "metadata": {},
   "source": [
    "Highest sales per store"
   ]
  },
  {
   "cell_type": "code",
   "execution_count": null,
   "id": "d65a9b86",
   "metadata": {},
   "outputs": [],
   "source": [
    "fig = plt.figure(figsize=(18, 6))\n",
    "df.groupby('Store')['Weekly_Sales'].sum().sort_values(ascending=False).plot(kind='bar');"
   ]
  },
  {
   "cell_type": "code",
   "execution_count": null,
   "id": "9930f4c1",
   "metadata": {
    "scrolled": true
   },
   "outputs": [],
   "source": [
    "fig = plt.figure(figsize=(18, 6))\n",
    "df.groupby('Type')['Weekly_Sales'].sum().sort_values(ascending=False).plot(kind='pie')"
   ]
  },
  {
   "cell_type": "code",
   "execution_count": null,
   "id": "01a39ac8",
   "metadata": {},
   "outputs": [],
   "source": [
    "#fig = plt.figure(figsize=(14,6))\n",
    "#plt.bar(df['Day'], df['Weekly_Sales'])\n",
    "\n",
    "plt.figure(figsize=(20,9))\n",
    "sns.lineplot(data = df, x=df['Day'], y=df['Weekly_Sales'])\n",
    "\n",
    "#plt.plot(xpoints, ypoints)\n",
    "plt.show()"
   ]
  },
  {
   "cell_type": "code",
   "execution_count": null,
   "id": "dbd15821",
   "metadata": {},
   "outputs": [],
   "source": [
    "#plt.figure(figsize=(20,9))\n",
    "#plt.bar( x=df['Year'], height=df['Weekly_Sales'])"
   ]
  },
  {
   "cell_type": "code",
   "execution_count": null,
   "id": "d7e5dcc6",
   "metadata": {
    "scrolled": true
   },
   "outputs": [],
   "source": [
    "plt.figure(figsize=(20,9))\n",
    "sns.lineplot(data = df, x=df['Week'], y=df['Weekly_Sales'])"
   ]
  },
  {
   "cell_type": "code",
   "execution_count": null,
   "id": "0964da66",
   "metadata": {},
   "outputs": [],
   "source": [
    "plt.figure(figsize=(20,9))\n",
    "sns.lineplot(data = df, x=df['Year'], y=df['Weekly_Sales'])"
   ]
  },
  {
   "cell_type": "code",
   "execution_count": null,
   "id": "672e4111",
   "metadata": {},
   "outputs": [],
   "source": [
    "numeric_features = ['Temperature', 'Fuel_Price', 'CPI', 'Unemployment', 'Size']\n",
    "df[numeric_features + ['Weekly_Sales']].describe()"
   ]
  },
  {
   "cell_type": "code",
   "execution_count": null,
   "id": "2c12ec3f",
   "metadata": {},
   "outputs": [],
   "source": [
    "df"
   ]
  },
  {
   "cell_type": "code",
   "execution_count": null,
   "id": "c46f57d9",
   "metadata": {
    "scrolled": true
   },
   "outputs": [],
   "source": [
    "import pandas as pd\n",
    "import matplotlib.pyplot as plt\n",
    "\n",
    "# This ensures plots are displayed inline in the Jupyter notebook\n",
    "%matplotlib inline\n",
    "\n",
    "# Get the Target column\n",
    "Target = df['Weekly_Sales']\n",
    "\n",
    "\n",
    "# Create a figure for 2 subplots (2 rows, 1 column)\n",
    "fig, ax = plt.subplots(2, 1, figsize = (9,12))\n",
    "\n",
    "# Plot the histogram   \n",
    "ax[0].hist(Target, bins=100)\n",
    "ax[0].set_ylabel('Frequency')\n",
    "\n",
    "# Add lines for the mean, median, and mode\n",
    "ax[0].axvline(Target.mean(), color='magenta', linestyle='dashed', linewidth=2)\n",
    "ax[0].axvline(Target.median(), color='cyan', linestyle='dashed', linewidth=2)\n",
    "\n",
    "# Plot the boxplot   \n",
    "ax[1].boxplot(Target, vert=False)\n",
    "ax[1].set_xlabel('Weekly_Sales')\n",
    "\n",
    "# Add a title to the Figure\n",
    "fig.suptitle('Weekly_Sales Distribution')\n",
    "\n",
    "# Show the figure\n",
    "fig.show()\n"
   ]
  },
  {
   "cell_type": "code",
   "execution_count": null,
   "id": "00e29458",
   "metadata": {},
   "outputs": [],
   "source": [
    "df = train.merge(features).merge(store)"
   ]
  },
  {
   "cell_type": "code",
   "execution_count": null,
   "id": "f494c367",
   "metadata": {},
   "outputs": [],
   "source": [
    "df.head()"
   ]
  },
  {
   "cell_type": "code",
   "execution_count": null,
   "id": "1b620ccc",
   "metadata": {},
   "outputs": [],
   "source": [
    "#remove the top and bottom 10%\n",
    "low, high = df['Weekly_Sales'].quantile([0.1, 0.9])\n",
    "Weekly_Sales = df['Weekly_Sales'].between(low, high)"
   ]
  },
  {
   "cell_type": "code",
   "execution_count": null,
   "id": "0789bbe6",
   "metadata": {},
   "outputs": [],
   "source": [
    "df = df[Weekly_Sales]"
   ]
  },
  {
   "cell_type": "code",
   "execution_count": null,
   "id": "349607d6",
   "metadata": {
    "scrolled": true
   },
   "outputs": [],
   "source": [
    "df.info()"
   ]
  },
  {
   "cell_type": "markdown",
   "id": "14fc2118",
   "metadata": {},
   "source": [
    "remove columns that are more than 50% null"
   ]
  },
  {
   "cell_type": "code",
   "execution_count": null,
   "id": "3019e4dc",
   "metadata": {
    "scrolled": true
   },
   "outputs": [],
   "source": [
    "df.isnull().sum()"
   ]
  },
  {
   "cell_type": "code",
   "execution_count": null,
   "id": "b1a18a1e",
   "metadata": {},
   "outputs": [],
   "source": [
    "df.drop(['MarkDown1', 'MarkDown2', 'MarkDown3', 'MarkDown4', 'MarkDown5'], axis=1, inplace = True)"
   ]
  },
  {
   "cell_type": "code",
   "execution_count": null,
   "id": "6dca0485",
   "metadata": {},
   "outputs": [],
   "source": [
    "df.head()"
   ]
  },
  {
   "cell_type": "code",
   "execution_count": null,
   "id": "42c9165a",
   "metadata": {},
   "outputs": [],
   "source": [
    "numerical = ['Weekly_Sales', 'Temperature', 'Fuel_Price', 'CPI', 'Unemployment', 'Size']\n",
    "categorical = ['Store', 'Dept', 'Date', 'IsHoliday', 'Type']"
   ]
  },
  {
   "cell_type": "code",
   "execution_count": null,
   "id": "42bd6133",
   "metadata": {},
   "outputs": [],
   "source": [
    "#drop high and low cardinality categorical features."
   ]
  },
  {
   "cell_type": "code",
   "execution_count": null,
   "id": "c43d10ce",
   "metadata": {},
   "outputs": [],
   "source": [
    "df[categorical].nunique()"
   ]
  },
  {
   "cell_type": "code",
   "execution_count": null,
   "id": "7791b432",
   "metadata": {},
   "outputs": [],
   "source": [
    "#df.drop(['IsHoliday', 'Type'], axis=1, inplace=True)"
   ]
  },
  {
   "cell_type": "code",
   "execution_count": null,
   "id": "e8bd40f0",
   "metadata": {},
   "outputs": [],
   "source": [
    "df.head()"
   ]
  },
  {
   "cell_type": "markdown",
   "id": "0cc1fbf4",
   "metadata": {},
   "source": [
    "check for correlation"
   ]
  },
  {
   "cell_type": "code",
   "execution_count": null,
   "id": "944c9411",
   "metadata": {},
   "outputs": [],
   "source": [
    "df.dtypes"
   ]
  },
  {
   "cell_type": "code",
   "execution_count": null,
   "id": "a85697f0",
   "metadata": {},
   "outputs": [],
   "source": [
    "corr = df.select_dtypes(include =['float64', 'int64']).drop(\"Weekly_Sales\", axis=1).corr()\n",
    "#sns.heatmap(corr)\n",
    "#corr = df[numerical].corr()\n",
    "sns.heatmap(corr)"
   ]
  },
  {
   "cell_type": "code",
   "execution_count": null,
   "id": "ffe32e4c",
   "metadata": {},
   "outputs": [],
   "source": [
    "corr"
   ]
  },
  {
   "cell_type": "markdown",
   "id": "97156f20",
   "metadata": {},
   "source": [
    "Split data"
   ]
  },
  {
   "cell_type": "code",
   "execution_count": null,
   "id": "998141a1",
   "metadata": {},
   "outputs": [],
   "source": [
    "from sklearn.model_selection import train_test_split\n",
    "from sklearn.metrics import mean_absolute_error"
   ]
  },
  {
   "cell_type": "code",
   "execution_count": null,
   "id": "3f0164e8",
   "metadata": {},
   "outputs": [],
   "source": [
    "X = df.drop(['Weekly_Sales', 'Date'], axis=1)\n",
    "y = df['Weekly_Sales']"
   ]
  },
  {
   "cell_type": "code",
   "execution_count": null,
   "id": "51c820b6",
   "metadata": {},
   "outputs": [],
   "source": [
    "X_train, X_test,  y_train, y_test = train_test_split(X, y, test_size=0.3, random_state=0)"
   ]
  },
  {
   "cell_type": "code",
   "execution_count": null,
   "id": "97f3e126",
   "metadata": {},
   "outputs": [],
   "source": [
    "X_train.shape"
   ]
  },
  {
   "cell_type": "code",
   "execution_count": null,
   "id": "3b0f4ff6",
   "metadata": {},
   "outputs": [],
   "source": [
    "y_train.shape"
   ]
  },
  {
   "cell_type": "code",
   "execution_count": null,
   "id": "53081cf7",
   "metadata": {},
   "outputs": [],
   "source": [
    "X_test.shape"
   ]
  },
  {
   "cell_type": "code",
   "execution_count": null,
   "id": "c7efdeca",
   "metadata": {},
   "outputs": [],
   "source": [
    "y_test.shape"
   ]
  },
  {
   "cell_type": "code",
   "execution_count": null,
   "id": "160162f9",
   "metadata": {},
   "outputs": [],
   "source": [
    "X_train"
   ]
  },
  {
   "cell_type": "markdown",
   "id": "92d53134",
   "metadata": {},
   "source": [
    "Build Model"
   ]
  },
  {
   "cell_type": "code",
   "execution_count": null,
   "id": "68ba3c38",
   "metadata": {},
   "outputs": [],
   "source": [
    "#Baseline model\n",
    "\n",
    "y_mean = y_train.mean()\n",
    "y_baseline_pred = [y_mean] * len(y_train)"
   ]
  },
  {
   "cell_type": "code",
   "execution_count": null,
   "id": "4390bdb4",
   "metadata": {},
   "outputs": [],
   "source": [
    "mean_absolute_error(y_train, y_baseline_pred)"
   ]
  },
  {
   "cell_type": "code",
   "execution_count": null,
   "id": "6b93e362",
   "metadata": {},
   "outputs": [],
   "source": [
    "print(\"Mean apt price:\", y_train.mean())\n",
    "\n",
    "print(\"Baseline MAE:\", mean_absolute_error(y_train, y_baseline_pred))"
   ]
  },
  {
   "cell_type": "code",
   "execution_count": null,
   "id": "72ccb6d4",
   "metadata": {},
   "outputs": [],
   "source": [
    "\n",
    "\n",
    "\n",
    "#X_train['Type'] = pd.get_dummies(df, columns = ['Type'])\n",
    "#X_test['Type'] = pd.get_dummies(df, columns = ['Type'])\n",
    "#print(one_hot_encoded_data)\n"
   ]
  },
  {
   "cell_type": "code",
   "execution_count": null,
   "id": "02cdedfe",
   "metadata": {},
   "outputs": [],
   "source": [
    "X_train"
   ]
  },
  {
   "cell_type": "code",
   "execution_count": null,
   "id": "22c98b3d",
   "metadata": {},
   "outputs": [],
   "source": [
    "model = make_pipeline(\n",
    "    OneHotEncoder(),\n",
    "    Normalizer(),\n",
    "    LinearRegression()\n",
    ")\n",
    "\n",
    "model.fit(X_train, y_train)"
   ]
  },
  {
   "cell_type": "code",
   "execution_count": null,
   "id": "9c3286d0",
   "metadata": {},
   "outputs": [],
   "source": [
    "X_train.head()"
   ]
  },
  {
   "cell_type": "code",
   "execution_count": null,
   "id": "304f2fc6",
   "metadata": {},
   "outputs": [],
   "source": [
    "predictions = pd.Series(model.predict(X_test))"
   ]
  },
  {
   "cell_type": "code",
   "execution_count": null,
   "id": "d3fe48d5",
   "metadata": {},
   "outputs": [],
   "source": [
    "mse = mean_squared_error(y_test, predictions)\n",
    "print(\"MSE:\", mse)\n",
    "\n",
    "rmse = np.sqrt(mse)\n",
    "print(\"RMSE:\", rmse)\n",
    "\n",
    "r2 = r2_score(y_test, predictions)\n",
    "print(\"R2_SCORE:\", r2)\n",
    "\n",
    "\n",
    "# Plot predicted vs actual\n",
    "plt.scatter(y_test, predictions)\n",
    "plt.xlabel('Actual Labels')\n",
    "plt.ylabel('Predicted Labels')\n",
    "plt.title('Weekly_Sales Predictions')\n",
    "# overlay the regression line\n",
    "z = np.polyfit(y_test, predictions, 1)\n",
    "p = np.poly1d(z)\n",
    "plt.plot(y_test,p(y_test), color='magenta')\n",
    "plt.show()"
   ]
  },
  {
   "cell_type": "markdown",
   "id": "011ef96a",
   "metadata": {},
   "source": [
    "Try Lasso Regression"
   ]
  },
  {
   "cell_type": "code",
   "execution_count": null,
   "id": "d4269c34",
   "metadata": {},
   "outputs": [],
   "source": [
    "model = make_pipeline(\n",
    "    OneHotEncoder(),\n",
    "    Normalizer(),\n",
    "    Lasso()\n",
    ")\n",
    "\n",
    "# Fit a lasso model on the training set\n",
    "model.fit(X_train, y_train)"
   ]
  },
  {
   "cell_type": "code",
   "execution_count": null,
   "id": "a46db34e",
   "metadata": {
    "scrolled": true
   },
   "outputs": [],
   "source": [
    "from sklearn.linear_model import Lasso\n",
    "\n",
    "\n",
    "# Evaluate the model using the test data\n",
    "predictions = model.predict(X_test)\n",
    "mse = mean_squared_error(y_test, predictions)\n",
    "print(\"MSE:\", mse)\n",
    "rmse = np.sqrt(mse)\n",
    "print(\"RMSE:\", rmse)\n",
    "r2 = r2_score(y_test, predictions)\n",
    "print(\"R2:\", r2)\n",
    "\n",
    "# Plot predicted vs actual\n",
    "plt.scatter(y_test, predictions)\n",
    "plt.xlabel('Actual Labels')\n",
    "plt.ylabel('Predicted Labels')\n",
    "plt.title('Weekly_Sales Predictions')\n",
    "# overlay the regression line\n",
    "z = np.polyfit(y_test, predictions, 1)\n",
    "p = np.poly1d(z)\n",
    "plt.plot(y_test,p(y_test), color='magenta')\n",
    "plt.show()"
   ]
  },
  {
   "cell_type": "markdown",
   "id": "4814d71a",
   "metadata": {},
   "source": [
    "Ridge regression"
   ]
  },
  {
   "cell_type": "code",
   "execution_count": null,
   "id": "ee2234a9",
   "metadata": {},
   "outputs": [],
   "source": [
    "model = make_pipeline(\n",
    "    OneHotEncoder(),\n",
    "    Normalizer(),\n",
    "    Ridge()\n",
    ")\n",
    "\n",
    "# Fit a lasso model on the training set\n",
    "model.fit(X_train, y_train)"
   ]
  },
  {
   "cell_type": "code",
   "execution_count": null,
   "id": "09f72d05",
   "metadata": {},
   "outputs": [],
   "source": [
    "from sklearn.linear_model import Ridge\n",
    "\n",
    "# Evaluate the model using the test data\n",
    "predictions = model.predict(X_test)\n",
    "mse = mean_squared_error(y_test, predictions)\n",
    "print(\"MSE:\", mse)\n",
    "rmse = np.sqrt(mse)\n",
    "print(\"RMSE:\", rmse)\n",
    "r2 = r2_score(y_test, predictions)\n",
    "print(\"R2:\", r2)\n",
    "\n",
    "# Plot predicted vs actual\n",
    "plt.scatter(y_test, predictions)\n",
    "plt.xlabel('Actual Labels')\n",
    "plt.ylabel('Predicted Labels')\n",
    "plt.title('Weekly_Sales Predictions')\n",
    "# overlay the regression line\n",
    "z = np.polyfit(y_test, predictions, 1)\n",
    "p = np.poly1d(z)\n",
    "plt.plot(y_test,p(y_test), color='magenta')\n",
    "plt.show()"
   ]
  },
  {
   "cell_type": "markdown",
   "id": "7505a349",
   "metadata": {},
   "source": [
    "DecisionTreeRegressor"
   ]
  },
  {
   "cell_type": "code",
   "execution_count": null,
   "id": "19904955",
   "metadata": {},
   "outputs": [],
   "source": [
    "from sklearn.tree import DecisionTreeRegressor\n",
    "#from sklearn.tree import export_text\n",
    "\n",
    "# Train the model\n",
    "\n",
    "model = make_pipeline(\n",
    "    OneHotEncoder(),\n",
    "    Normalizer(),\n",
    "    DecisionTreeRegressor()\n",
    ")\n",
    "\n",
    "\n",
    "# Fit a lasso model on the training set\n",
    "model.fit(X_train, y_train)\n",
    "\n",
    "\n",
    "# Visualize the model tree\n",
    "#tree = export_text(model)\n",
    "#print(tree)\n",
    "\n",
    "#Evaluate the model using the test data\n",
    "predictions = model.predict(X_test)\n",
    "mse = mean_squared_error(y_test, predictions)\n",
    "print(\"MSE:\", mse)\n",
    "rmse = np.sqrt(mse)\n",
    "print(\"RMSE: {:.2f}\".format(rmse))\n",
    "r2_score = r2_score(y_test, predictions)\n",
    "print(\"R2_SCORE: {:2f}\".format(r2_score))\n"
   ]
  },
  {
   "cell_type": "code",
   "execution_count": null,
   "id": "8c99cce6",
   "metadata": {},
   "outputs": [],
   "source": [
    "from sklearn.ensemble import RandomForestRegressor\n",
    "\n",
    "# Train the model\n",
    "model = RandomForestRegressor().fit(X_train, y_train)\n",
    "print (model, \"\\n\")\n",
    "\n",
    "# Evaluate the model using the test data\n",
    "predictions = model.predict(X_test)\n",
    "mse = mean_squared_error(y_test, predictions)\n",
    "print(\"MSE:\", mse)\n",
    "rmse = np.sqrt(mse)\n",
    "print(\"RMSE:\", rmse)\n",
    "r2 = r2_score(y_test, predictions)\n",
    "print(\"R2:\", r2)\n",
    "\n",
    "# Plot predicted vs actual\n",
    "plt.scatter(y_test, predictions)\n",
    "plt.xlabel('Actual Labels')\n",
    "plt.ylabel('Predicted Labels')\n",
    "plt.title('Weekly_Sales Predictions')\n",
    "# overlay the regression line\n",
    "z = np.polyfit(y_test, predictions, 1)\n",
    "p = np.poly1d(z)\n",
    "plt.plot(y_test,p(y_test), color='magenta')\n",
    "plt.show()"
   ]
  },
  {
   "cell_type": "code",
   "execution_count": null,
   "id": "53a04475",
   "metadata": {},
   "outputs": [],
   "source": [
    "# Train the model\n",
    "from sklearn.ensemble import GradientBoostingRegressor\n",
    "\n",
    "# Fit a GradientBoostingRegressor model on the training set\n",
    "model = GradientBoostingRegressor().fit(X_train, y_train)\n",
    "print (model, \"\\n\")\n",
    "\n",
    "# Evaluate the model using the test data\n",
    "predictions = model.predict(X_test)\n",
    "mse = mean_squared_error(y_test, predictions)\n",
    "print(\"MSE:\", mse)\n",
    "rmse = np.sqrt(mse)\n",
    "print(\"RMSE:\", rmse)\n",
    "r2 = r2_score(y_test, predictions)\n",
    "print(\"R2:\", r2)\n",
    "\n",
    "# Plot predicted vs actual\n",
    "plt.scatter(y_test, predictions)\n",
    "plt.xlabel('Actual Labels')\n",
    "plt.ylabel('Predicted Labels')\n",
    "plt.title('Weekly_Sales Predictions')\n",
    "# overlay the regression line\n",
    "z = np.polyfit(y_test, predictions, 1)\n",
    "p = np.poly1d(z)\n",
    "plt.plot(y_test,p(y_test), color='magenta')\n",
    "plt.show()"
   ]
  },
  {
   "cell_type": "code",
   "execution_count": null,
   "id": "96c20b42",
   "metadata": {},
   "outputs": [],
   "source": []
  },
  {
   "cell_type": "code",
   "execution_count": null,
   "id": "473b23a6",
   "metadata": {},
   "outputs": [],
   "source": []
  },
  {
   "cell_type": "code",
   "execution_count": null,
   "id": "c71f7907",
   "metadata": {},
   "outputs": [],
   "source": []
  }
 ],
 "metadata": {
  "interpreter": {
   "hash": "363387ba2fc5d9a13546c0c15534aa66ddb2bd2372590b395185e4a7a0c34c2a"
  },
  "kernelspec": {
   "display_name": "Python 3",
   "language": "python",
   "name": "python3"
  },
  "language_info": {
   "codemirror_mode": {
    "name": "ipython",
    "version": 3
   },
   "file_extension": ".py",
   "mimetype": "text/x-python",
   "name": "python",
   "nbconvert_exporter": "python",
   "pygments_lexer": "ipython3",
   "version": "3.8.8"
  }
 },
 "nbformat": 4,
 "nbformat_minor": 5
}
